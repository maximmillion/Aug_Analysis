{
  "cells": [
    {
      "cell_type": "markdown",
      "metadata": {
        "id": "view-in-github",
        "colab_type": "text"
      },
      "source": [
        "<a href=\"https://colab.research.google.com/github/maximmillion/Aug_Analysis/blob/main/Augmentation_analaysis.ipynb\" target=\"_parent\"><img src=\"https://colab.research.google.com/assets/colab-badge.svg\" alt=\"Open In Colab\"/></a>"
      ]
    },
    {
      "cell_type": "code",
      "execution_count": 1,
      "metadata": {
        "id": "WAg0Oj24bZG6"
      },
      "outputs": [],
      "source": [
        "import numpy as np\n",
        "import tensorflow as tf\n",
        "from tensorflow import keras\n",
        "from keras.callbacks import History \n",
        "from random import randint\n",
        "import matplotlib.pyplot as plt\n",
        "from skimage.filters import gaussian\n",
        "from skimage.util import random_noise\n",
        "import matplotlib.pyplot as pp\n",
        "from tensorflow.keras import datasets, layers, models\n",
        "%matplotlib inline"
      ]
    },
    {
      "cell_type": "markdown",
      "metadata": {
        "id": "jvRPNmOKbZG9"
      },
      "source": [
        "# Making Datset:"
      ]
    },
    {
      "cell_type": "code",
      "execution_count": 2,
      "metadata": {
        "id": "0GlV4XFibZG-"
      },
      "outputs": [],
      "source": [
        "# Create 250 squares\n",
        "NUM_SQUARES = 1000\n",
        "X_train = []\n",
        "for i in range(NUM_SQUARES):\n",
        "    exp = np.zeros((28, 28)) #  28*28 canvas \n",
        "    x_start = randint(0,27)\n",
        "    x_end = randint(x_start, 28)\n",
        "    y_start = randint(0, 27)\n",
        "    y_end = randint(y_start, 28)\n",
        "    for x in range(y_start, y_end):\n",
        "        for y in range(y_start, y_end):\n",
        "            exp[x, y] = 1\n",
        "    X_train.append(exp)"
      ]
    },
    {
      "cell_type": "code",
      "execution_count": 3,
      "metadata": {
        "colab": {
          "base_uri": "https://localhost:8080/"
        },
        "id": "JHzHa5TzbZG-",
        "outputId": "2be47d68-c52f-4624-fa25-4ad42fb38a87"
      },
      "outputs": [
        {
          "output_type": "stream",
          "name": "stdout",
          "text": [
            "2000\n"
          ]
        }
      ],
      "source": [
        "# Create 250 circles\n",
        "for i in range(NUM_SQUARES):\n",
        "    x = np.arange(0, 28)\n",
        "    y = np.arange(0, 28)\n",
        "    arr = np.zeros((y.size, x.size))\n",
        "\n",
        "    cx = randint(0, 28)\n",
        "    cy = randint(0, 28)\n",
        "    r = randint(0, 14)\n",
        "\n",
        "    # The two lines below could be merged, but I stored the mask\n",
        "    # for code clarity.\n",
        "    mask = (x[np.newaxis,:]-cx)**2 + (y[:,np.newaxis]-cy)**2 < r**2\n",
        "    arr[mask] = 1\n",
        "    if randint(0, 1) == 0: # sometie true\n",
        "        arr = np.fliplr(arr)\n",
        "    X_train.append(arr)\n",
        "print(len(X_train))"
      ]
    },
    {
      "cell_type": "code",
      "execution_count": 4,
      "metadata": {
        "id": "gCd0g0oLbZG_"
      },
      "outputs": [],
      "source": [
        "Y_train = np.array([1 if i < NUM_SQUARES else 0 for i in range(NUM_SQUARES * 2)])"
      ]
    },
    {
      "cell_type": "code",
      "execution_count": 5,
      "metadata": {
        "id": "bsXF8gsAbZG_"
      },
      "outputs": [],
      "source": [
        "# Shuffle training data\n",
        "shuffler = np.random.permutation(NUM_SQUARES*2)\n",
        "\n",
        "X_train = np.array(X_train)\n",
        "\n",
        "shufled_X_train = X_train[shuffler]\n",
        "shufled_Y_train = Y_train[shuffler]"
      ]
    },
    {
      "cell_type": "code",
      "execution_count": 6,
      "metadata": {
        "colab": {
          "base_uri": "https://localhost:8080/",
          "height": 297
        },
        "id": "xnTGPV6JbZHA",
        "outputId": "7736156c-658c-4d43-970d-1afb519ed2dd"
      },
      "outputs": [
        {
          "output_type": "stream",
          "name": "stdout",
          "text": [
            "0\n"
          ]
        },
        {
          "output_type": "execute_result",
          "data": {
            "text/plain": [
              "<matplotlib.image.AxesImage at 0x7f97c0ebe450>"
            ]
          },
          "metadata": {},
          "execution_count": 6
        },
        {
          "output_type": "display_data",
          "data": {
            "image/png": "[encoded data removed]",
            "text/plain": [
              "<Figure size 432x288 with 1 Axes>"
            ]
          },
          "metadata": {
            "needs_background": "light"
          }
        }
      ],
      "source": [
        "print(shufled_Y_train[0])\n",
        "plt.imshow(shufled_X_train[0])"
      ]
    },
    {
      "cell_type": "code",
      "execution_count": 7,
      "metadata": {
        "id": "_LwiyqlwbZHB"
      },
      "outputs": [],
      "source": [
        "NUM_TRAIN = int(NUM_SQUARES*2*0.85)\n",
        "\n",
        "X_train = shufled_X_train[ : NUM_TRAIN]\n",
        "Y_train = shufled_Y_train[ : NUM_TRAIN] \n",
        "\n",
        "X_test = shufled_X_train[NUM_TRAIN : ]\n",
        "Y_test = shufled_Y_train[NUM_TRAIN:] "
      ]
    },
    {
      "cell_type": "markdown",
      "metadata": {
        "id": "EhDUile1bZHB"
      },
      "source": [
        "# MLP on Normal:"
      ]
    },
    {
      "cell_type": "code",
      "execution_count": 8,
      "metadata": {
        "id": "O4IsxiljbZHC"
      },
      "outputs": [],
      "source": [
        "def run_mlp(X_train, Y_train, X_test, Y_test, size=28):\n",
        "    \n",
        "    FREQ = 5\n",
        "    accu = []\n",
        "    for _ in range(FREQ):\n",
        "        # flatten \n",
        "        X_train_flattened = X_train.reshape(len(X_train), size * size)\n",
        "        X_test_flattened = X_test.reshape(len(X_test), size * size)\n",
        "\n",
        "        model = keras.Sequential([\n",
        "            keras.layers.Dense(2, input_shape=(size * size ,), activation='sigmoid')\n",
        "        ])\n",
        "\n",
        "        model.compile(optimizer='adam',\n",
        "                      loss='sparse_categorical_crossentropy',\n",
        "                      metrics=['accuracy'])\n",
        "\n",
        "        model.fit(X_train_flattened, Y_train, epochs=5)\n",
        "\n",
        "        res = model.evaluate(X_test_flattened, Y_test)\n",
        "        accu.append(res[1])\n",
        "    \n",
        "    return sum(accu) / FREQ"
      ]
    },
    {
      "cell_type": "code",
      "execution_count": 9,
      "metadata": {
        "colab": {
          "base_uri": "https://localhost:8080/"
        },
        "id": "WYAfj5iKbZHC",
        "outputId": "57f1f0eb-5a5a-4f2d-f297-929c12c9baeb"
      },
      "outputs": [
        {
          "output_type": "stream",
          "name": "stdout",
          "text": [
            "Epoch 1/5\n",
            "54/54 [==============================] - 1s 5ms/step - loss: 0.5802 - accuracy: 0.7341\n",
            "Epoch 2/5\n",
            "54/54 [==============================] - 0s 3ms/step - loss: 0.4846 - accuracy: 0.8229\n",
            "Epoch 3/5\n",
            "54/54 [==============================] - 0s 3ms/step - loss: 0.4555 - accuracy: 0.8382\n",
            "Epoch 4/5\n",
            "54/54 [==============================] - 0s 3ms/step - loss: 0.4374 - accuracy: 0.8324\n",
            "Epoch 5/5\n",
            "54/54 [==============================] - 0s 4ms/step - loss: 0.4233 - accuracy: 0.8441\n",
            "10/10 [==============================] - 0s 3ms/step - loss: 0.4338 - accuracy: 0.8033\n",
            "Epoch 1/5\n",
            "54/54 [==============================] - 1s 3ms/step - loss: 0.5962 - accuracy: 0.6894\n",
            "Epoch 2/5\n",
            "54/54 [==============================] - 0s 4ms/step - loss: 0.5088 - accuracy: 0.7929\n",
            "Epoch 3/5\n",
            "54/54 [==============================] - 0s 3ms/step - loss: 0.4699 - accuracy: 0.8159\n",
            "Epoch 4/5\n",
            "54/54 [==============================] - 0s 3ms/step - loss: 0.4486 - accuracy: 0.8265\n",
            "Epoch 5/5\n",
            "54/54 [==============================] - 0s 3ms/step - loss: 0.4358 - accuracy: 0.8400\n",
            "10/10 [==============================] - 0s 2ms/step - loss: 0.4741 - accuracy: 0.7767\n",
            "Epoch 1/5\n",
            "54/54 [==============================] - 1s 4ms/step - loss: 0.5813 - accuracy: 0.6994\n",
            "Epoch 2/5\n",
            "54/54 [==============================] - 0s 4ms/step - loss: 0.4898 - accuracy: 0.8082\n",
            "Epoch 3/5\n",
            "54/54 [==============================] - 0s 4ms/step - loss: 0.4660 - accuracy: 0.8271\n",
            "Epoch 4/5\n",
            "54/54 [==============================] - 0s 4ms/step - loss: 0.4428 - accuracy: 0.8424\n",
            "Epoch 5/5\n",
            "54/54 [==============================] - 0s 6ms/step - loss: 0.4300 - accuracy: 0.8376\n",
            "10/10 [==============================] - 0s 5ms/step - loss: 0.4326 - accuracy: 0.8133\n",
            "Epoch 1/5\n",
            "54/54 [==============================] - 1s 3ms/step - loss: 0.5911 - accuracy: 0.7188\n",
            "Epoch 2/5\n",
            "54/54 [==============================] - 0s 3ms/step - loss: 0.4841 - accuracy: 0.8124\n",
            "Epoch 3/5\n",
            "54/54 [==============================] - 0s 4ms/step - loss: 0.4560 - accuracy: 0.8365\n",
            "Epoch 4/5\n",
            "54/54 [==============================] - 0s 5ms/step - loss: 0.4402 - accuracy: 0.8288\n",
            "Epoch 5/5\n",
            "54/54 [==============================] - 0s 4ms/step - loss: 0.4230 - accuracy: 0.8306\n",
            "10/10 [==============================] - 0s 5ms/step - loss: 0.4099 - accuracy: 0.8000\n",
            "Epoch 1/5\n",
            "54/54 [==============================] - 1s 5ms/step - loss: 0.5644 - accuracy: 0.7376\n",
            "Epoch 2/5\n",
            "54/54 [==============================] - 0s 2ms/step - loss: 0.4927 - accuracy: 0.8065\n",
            "Epoch 3/5\n",
            "54/54 [==============================] - 0s 3ms/step - loss: 0.4593 - accuracy: 0.8259\n",
            "Epoch 4/5\n",
            "54/54 [==============================] - 0s 2ms/step - loss: 0.4410 - accuracy: 0.8324\n",
            "Epoch 5/5\n",
            "54/54 [==============================] - 0s 3ms/step - loss: 0.4319 - accuracy: 0.8429\n",
            "10/10 [==============================] - 0s 3ms/step - loss: 0.4209 - accuracy: 0.8167\n",
            "mean accuracy:  80.2\n"
          ]
        }
      ],
      "source": [
        "accu = run_mlp(X_train, Y_train, X_test, Y_test)\n",
        "print('mean accuracy: ', round(accu * 100, 2))"
      ]
    },
    {
      "cell_type": "markdown",
      "metadata": {
        "id": "baijwbhbbZHC"
      },
      "source": [
        "# MLP on Noisy:"
      ]
    },
    {
      "cell_type": "code",
      "execution_count": 10,
      "metadata": {
        "id": "iyf_c0RYbZHD"
      },
      "outputs": [],
      "source": [
        "X_train_noisy = []\n",
        "X_test_noisy = []\n",
        "\n",
        "for x in X_train:\n",
        "    X_train_noisy.append(random_noise(x))\n",
        "    \n",
        "for x in X_test:\n",
        "    X_test_noisy.append(random_noise(x))\n",
        "    \n",
        "X_train_noisy = np.array(X_train_noisy) \n",
        "X_test_noisy = np.array(X_test_noisy)"
      ]
    },
    {
      "cell_type": "code",
      "execution_count": 11,
      "metadata": {
        "colab": {
          "base_uri": "https://localhost:8080/",
          "height": 281
        },
        "id": "YyZK0mHMbZHD",
        "outputId": "0e95833f-b413-4ace-976a-4d736f8ee10f"
      },
      "outputs": [
        {
          "output_type": "execute_result",
          "data": {
            "text/plain": [
              "<matplotlib.image.AxesImage at 0x7f97bd080a90>"
            ]
          },
          "metadata": {},
          "execution_count": 11
        },
        {
          "output_type": "display_data",
          "data": {
            "image/png": "[encoded data removed]",
            "text/plain": [
              "<Figure size 432x288 with 1 Axes>"
            ]
          },
          "metadata": {
            "needs_background": "light"
          }
        }
      ],
      "source": [
        "plt.imshow(X_train_noisy[0])"
      ]
    },
    {
      "cell_type": "code",
      "execution_count": 12,
      "metadata": {
        "colab": {
          "base_uri": "https://localhost:8080/"
        },
        "id": "NE3IiDSabZHD",
        "outputId": "792cf9e5-bbd7-4c23-a5be-8ce1105c12ac"
      },
      "outputs": [
        {
          "output_type": "stream",
          "name": "stdout",
          "text": [
            "Epoch 1/5\n",
            "54/54 [==============================] - 1s 4ms/step - loss: 0.5936 - accuracy: 0.6553\n",
            "Epoch 2/5\n",
            "54/54 [==============================] - 0s 3ms/step - loss: 0.5014 - accuracy: 0.7312\n",
            "Epoch 3/5\n",
            "54/54 [==============================] - 0s 3ms/step - loss: 0.4645 - accuracy: 0.7588\n",
            "Epoch 4/5\n",
            "54/54 [==============================] - 0s 3ms/step - loss: 0.4474 - accuracy: 0.7771\n",
            "Epoch 5/5\n",
            "54/54 [==============================] - 0s 7ms/step - loss: 0.4320 - accuracy: 0.7941\n",
            "10/10 [==============================] - 0s 4ms/step - loss: 0.4303 - accuracy: 0.7967\n",
            "Epoch 1/5\n",
            "54/54 [==============================] - 1s 4ms/step - loss: 0.5550 - accuracy: 0.7176\n",
            "Epoch 2/5\n",
            "54/54 [==============================] - 0s 3ms/step - loss: 0.4846 - accuracy: 0.7641\n",
            "Epoch 3/5\n",
            "54/54 [==============================] - 0s 4ms/step - loss: 0.4564 - accuracy: 0.7865\n",
            "Epoch 4/5\n",
            "54/54 [==============================] - 0s 3ms/step - loss: 0.4395 - accuracy: 0.8076\n",
            "Epoch 5/5\n",
            "54/54 [==============================] - 0s 4ms/step - loss: 0.4199 - accuracy: 0.8176\n",
            "10/10 [==============================] - 0s 8ms/step - loss: 0.4324 - accuracy: 0.7733\n",
            "Epoch 1/5\n",
            "54/54 [==============================] - 2s 3ms/step - loss: 0.5733 - accuracy: 0.6653\n",
            "Epoch 2/5\n",
            "54/54 [==============================] - 0s 3ms/step - loss: 0.4952 - accuracy: 0.7429\n",
            "Epoch 3/5\n",
            "54/54 [==============================] - 0s 4ms/step - loss: 0.4643 - accuracy: 0.7806\n",
            "Epoch 4/5\n",
            "54/54 [==============================] - 0s 3ms/step - loss: 0.4450 - accuracy: 0.7894\n",
            "Epoch 5/5\n",
            "54/54 [==============================] - 0s 4ms/step - loss: 0.4250 - accuracy: 0.8076\n",
            "10/10 [==============================] - 0s 3ms/step - loss: 0.4387 - accuracy: 0.7733\n",
            "Epoch 1/5\n",
            "54/54 [==============================] - 1s 3ms/step - loss: 0.6027 - accuracy: 0.6576\n",
            "Epoch 2/5\n",
            "54/54 [==============================] - 0s 4ms/step - loss: 0.4966 - accuracy: 0.7547\n",
            "Epoch 3/5\n",
            "54/54 [==============================] - 0s 4ms/step - loss: 0.4640 - accuracy: 0.7753\n",
            "Epoch 4/5\n",
            "54/54 [==============================] - 0s 5ms/step - loss: 0.4469 - accuracy: 0.7965\n",
            "Epoch 5/5\n",
            "54/54 [==============================] - 0s 4ms/step - loss: 0.4282 - accuracy: 0.8047\n",
            "10/10 [==============================] - 0s 3ms/step - loss: 0.4591 - accuracy: 0.7600\n",
            "Epoch 1/5\n",
            "54/54 [==============================] - 1s 3ms/step - loss: 0.5996 - accuracy: 0.6288\n",
            "Epoch 2/5\n",
            "54/54 [==============================] - 0s 2ms/step - loss: 0.5155 - accuracy: 0.7353\n",
            "Epoch 3/5\n",
            "54/54 [==============================] - 0s 3ms/step - loss: 0.4682 - accuracy: 0.7776\n",
            "Epoch 4/5\n",
            "54/54 [==============================] - 0s 4ms/step - loss: 0.4502 - accuracy: 0.7918\n",
            "Epoch 5/5\n",
            "54/54 [==============================] - 0s 4ms/step - loss: 0.4350 - accuracy: 0.8029\n",
            "10/10 [==============================] - 0s 2ms/step - loss: 0.4407 - accuracy: 0.7900\n",
            "mean accuracy:  77.87\n"
          ]
        }
      ],
      "source": [
        "accu = run_mlp(X_train_noisy, Y_train, X_test_noisy, Y_test)\n",
        "print('mean accuracy: ', round(accu * 100, 2))"
      ]
    },
    {
      "cell_type": "code",
      "execution_count": 13,
      "metadata": {
        "colab": {
          "base_uri": "https://localhost:8080/"
        },
        "id": "6MFwBzb4bZHD",
        "outputId": "a1abc077-728e-41c4-99d8-f9fea867168c"
      },
      "outputs": [
        {
          "output_type": "stream",
          "name": "stdout",
          "text": [
            "Epoch 1/5\n",
            "107/107 [==============================] - 1s 3ms/step - loss: 0.5410 - accuracy: 0.7341\n",
            "Epoch 2/5\n",
            "107/107 [==============================] - 0s 4ms/step - loss: 0.4610 - accuracy: 0.7988\n",
            "Epoch 3/5\n",
            "107/107 [==============================] - 0s 2ms/step - loss: 0.4282 - accuracy: 0.8174\n",
            "Epoch 4/5\n",
            "107/107 [==============================] - 0s 4ms/step - loss: 0.4157 - accuracy: 0.8212\n",
            "Epoch 5/5\n",
            "107/107 [==============================] - 1s 5ms/step - loss: 0.3952 - accuracy: 0.8303\n",
            "19/19 [==============================] - 0s 4ms/step - loss: 0.4185 - accuracy: 0.7833\n",
            "Epoch 1/5\n",
            "107/107 [==============================] - 2s 5ms/step - loss: 0.5335 - accuracy: 0.7271\n",
            "Epoch 2/5\n",
            "107/107 [==============================] - 0s 4ms/step - loss: 0.4571 - accuracy: 0.7935\n",
            "Epoch 3/5\n",
            "107/107 [==============================] - 0s 4ms/step - loss: 0.4320 - accuracy: 0.8103\n",
            "Epoch 4/5\n",
            "107/107 [==============================] - 0s 5ms/step - loss: 0.4141 - accuracy: 0.8224\n",
            "Epoch 5/5\n",
            "107/107 [==============================] - 0s 3ms/step - loss: 0.3993 - accuracy: 0.8276\n",
            "19/19 [==============================] - 0s 4ms/step - loss: 0.4048 - accuracy: 0.7950\n",
            "Epoch 1/5\n",
            "107/107 [==============================] - 1s 3ms/step - loss: 0.5334 - accuracy: 0.7171\n",
            "Epoch 2/5\n",
            "107/107 [==============================] - 0s 4ms/step - loss: 0.4644 - accuracy: 0.7912\n",
            "Epoch 3/5\n",
            "107/107 [==============================] - 0s 4ms/step - loss: 0.4309 - accuracy: 0.8147\n",
            "Epoch 4/5\n",
            "107/107 [==============================] - 0s 2ms/step - loss: 0.4193 - accuracy: 0.8206\n",
            "Epoch 5/5\n",
            "107/107 [==============================] - 0s 2ms/step - loss: 0.3993 - accuracy: 0.8329\n",
            "19/19 [==============================] - 0s 1ms/step - loss: 0.4142 - accuracy: 0.8183\n",
            "Epoch 1/5\n",
            "107/107 [==============================] - 0s 2ms/step - loss: 0.5292 - accuracy: 0.7376\n",
            "Epoch 2/5\n",
            "107/107 [==============================] - 0s 2ms/step - loss: 0.4544 - accuracy: 0.8038\n",
            "Epoch 3/5\n",
            "107/107 [==============================] - 0s 2ms/step - loss: 0.4227 - accuracy: 0.8159\n",
            "Epoch 4/5\n",
            "107/107 [==============================] - 0s 2ms/step - loss: 0.4056 - accuracy: 0.8203\n",
            "Epoch 5/5\n",
            "107/107 [==============================] - 0s 2ms/step - loss: 0.3924 - accuracy: 0.8374\n",
            "19/19 [==============================] - 0s 1ms/step - loss: 0.4056 - accuracy: 0.8033\n",
            "Epoch 1/5\n",
            "107/107 [==============================] - 0s 2ms/step - loss: 0.5230 - accuracy: 0.7529\n",
            "Epoch 2/5\n",
            "107/107 [==============================] - 0s 2ms/step - loss: 0.4546 - accuracy: 0.8009\n",
            "Epoch 3/5\n",
            "107/107 [==============================] - 0s 2ms/step - loss: 0.4314 - accuracy: 0.8124\n",
            "Epoch 4/5\n",
            "107/107 [==============================] - 0s 2ms/step - loss: 0.4130 - accuracy: 0.8247\n",
            "Epoch 5/5\n",
            "107/107 [==============================] - 0s 2ms/step - loss: 0.3973 - accuracy: 0.8374\n",
            "19/19 [==============================] - 0s 2ms/step - loss: 0.4079 - accuracy: 0.8083\n",
            "mean accuracy:  80.17\n"
          ]
        }
      ],
      "source": [
        "accu = run_mlp(\n",
        "    np.concatenate((X_train, X_train_noisy)),\n",
        "    np.concatenate((Y_train, Y_train)), \n",
        "    np.concatenate((X_test_noisy, X_test)), \n",
        "    np.concatenate((Y_test, Y_test))\n",
        "    )\n",
        "print('mean accuracy: ', round(accu * 100, 2))"
      ]
    },
    {
      "cell_type": "markdown",
      "metadata": {
        "id": "maWXZNNBbZHD"
      },
      "source": [
        "# MLP on Blurred:"
      ]
    },
    {
      "cell_type": "code",
      "execution_count": 14,
      "metadata": {
        "id": "kjIZzjpPbZHE"
      },
      "outputs": [],
      "source": [
        "X_train_blur = []\n",
        "X_test_blur = []\n",
        "\n",
        "for x in X_train:\n",
        "    X_train_blur.append(gaussian(x, sigma=0.5))\n",
        "    \n",
        "for x in X_test:\n",
        "    X_test_blur.append(gaussian(x, sigma=0.5))\n",
        "    \n",
        "X_train_blur = np.array(X_train_blur) \n",
        "X_test_blur = np.array(X_test_blur)"
      ]
    },
    {
      "cell_type": "code",
      "execution_count": 15,
      "metadata": {
        "colab": {
          "base_uri": "https://localhost:8080/",
          "height": 0
        },
        "id": "EfVnrkVbbZHE",
        "outputId": "101929c6-8b35-4c68-d63c-414370eff024"
      },
      "outputs": [
        {
          "output_type": "execute_result",
          "data": {
            "text/plain": [
              "<matplotlib.image.AxesImage at 0x7f97b306c890>"
            ]
          },
          "metadata": {},
          "execution_count": 15
        },
        {
          "output_type": "display_data",
          "data": {
            "image/png": "[encoded data removed]",
            "text/plain": [
              "<Figure size 432x288 with 1 Axes>"
            ]
          },
          "metadata": {
            "needs_background": "light"
          }
        }
      ],
      "source": [
        "plt.imshow(X_train_blur[0])"
      ]
    },
    {
      "cell_type": "code",
      "execution_count": 16,
      "metadata": {
        "colab": {
          "base_uri": "https://localhost:8080/"
        },
        "id": "4zQSU1GsbZHE",
        "outputId": "3ab5c6b7-e972-4477-d49c-42395701431e"
      },
      "outputs": [
        {
          "output_type": "stream",
          "name": "stdout",
          "text": [
            "Epoch 1/5\n",
            "54/54 [==============================] - 0s 2ms/step - loss: 0.5921 - accuracy: 0.7194\n",
            "Epoch 2/5\n",
            "54/54 [==============================] - 0s 2ms/step - loss: 0.4967 - accuracy: 0.8129\n",
            "Epoch 3/5\n",
            "54/54 [==============================] - 0s 2ms/step - loss: 0.4715 - accuracy: 0.8153\n",
            "Epoch 4/5\n",
            "54/54 [==============================] - 0s 2ms/step - loss: 0.4525 - accuracy: 0.8376\n",
            "Epoch 5/5\n",
            "54/54 [==============================] - 0s 2ms/step - loss: 0.4416 - accuracy: 0.8318\n",
            "10/10 [==============================] - 0s 2ms/step - loss: 0.4508 - accuracy: 0.8033\n",
            "Epoch 1/5\n",
            "54/54 [==============================] - 0s 2ms/step - loss: 0.6033 - accuracy: 0.6588\n",
            "Epoch 2/5\n",
            "54/54 [==============================] - 0s 2ms/step - loss: 0.5089 - accuracy: 0.7824\n",
            "Epoch 3/5\n",
            "54/54 [==============================] - 0s 2ms/step - loss: 0.4771 - accuracy: 0.7988\n",
            "Epoch 4/5\n",
            "54/54 [==============================] - 0s 2ms/step - loss: 0.4580 - accuracy: 0.8059\n",
            "Epoch 5/5\n",
            "54/54 [==============================] - 0s 2ms/step - loss: 0.4474 - accuracy: 0.8188\n",
            "10/10 [==============================] - 0s 2ms/step - loss: 0.4656 - accuracy: 0.7633\n",
            "Epoch 1/5\n",
            "54/54 [==============================] - 0s 2ms/step - loss: 0.5659 - accuracy: 0.7453\n",
            "Epoch 2/5\n",
            "54/54 [==============================] - 0s 2ms/step - loss: 0.4930 - accuracy: 0.8212\n",
            "Epoch 3/5\n",
            "54/54 [==============================] - 0s 2ms/step - loss: 0.4658 - accuracy: 0.8335\n",
            "Epoch 4/5\n",
            "54/54 [==============================] - 0s 2ms/step - loss: 0.4500 - accuracy: 0.8294\n",
            "Epoch 5/5\n",
            "54/54 [==============================] - 0s 2ms/step - loss: 0.4366 - accuracy: 0.8324\n",
            "10/10 [==============================] - 0s 2ms/step - loss: 0.4301 - accuracy: 0.8067\n",
            "Epoch 1/5\n",
            "54/54 [==============================] - 0s 2ms/step - loss: 0.5702 - accuracy: 0.7429\n",
            "Epoch 2/5\n",
            "54/54 [==============================] - 0s 1ms/step - loss: 0.4899 - accuracy: 0.8118\n",
            "Epoch 3/5\n",
            "54/54 [==============================] - 0s 2ms/step - loss: 0.4700 - accuracy: 0.8300\n",
            "Epoch 4/5\n",
            "54/54 [==============================] - 0s 2ms/step - loss: 0.4527 - accuracy: 0.8135\n",
            "Epoch 5/5\n",
            "54/54 [==============================] - 0s 2ms/step - loss: 0.4361 - accuracy: 0.8312\n",
            "10/10 [==============================] - 0s 2ms/step - loss: 0.4319 - accuracy: 0.8167\n",
            "Epoch 1/5\n",
            "54/54 [==============================] - 0s 2ms/step - loss: 0.5791 - accuracy: 0.7382\n",
            "Epoch 2/5\n",
            "54/54 [==============================] - 0s 2ms/step - loss: 0.5020 - accuracy: 0.8135\n",
            "Epoch 3/5\n",
            "54/54 [==============================] - 0s 2ms/step - loss: 0.4701 - accuracy: 0.8394\n",
            "Epoch 4/5\n",
            "54/54 [==============================] - 0s 2ms/step - loss: 0.4528 - accuracy: 0.8282\n",
            "Epoch 5/5\n",
            "54/54 [==============================] - 0s 2ms/step - loss: 0.4426 - accuracy: 0.8429\n",
            "10/10 [==============================] - 0s 2ms/step - loss: 0.4423 - accuracy: 0.8100\n",
            "mean accuracy:  80.0\n"
          ]
        }
      ],
      "source": [
        "accu = run_mlp(X_train_blur, Y_train, X_test_blur, Y_test)\n",
        "print('mean accuracy: ', round(accu * 100, 2))"
      ]
    },
    {
      "cell_type": "code",
      "execution_count": 17,
      "metadata": {
        "colab": {
          "base_uri": "https://localhost:8080/"
        },
        "id": "GXuHVl-qbZHE",
        "outputId": "4b27edc9-8b69-4470-e583-efa4aea7c375"
      },
      "outputs": [
        {
          "output_type": "stream",
          "name": "stdout",
          "text": [
            "Epoch 1/5\n",
            "107/107 [==============================] - 0s 2ms/step - loss: 0.5441 - accuracy: 0.7471\n",
            "Epoch 2/5\n",
            "107/107 [==============================] - 0s 2ms/step - loss: 0.4572 - accuracy: 0.8344\n",
            "Epoch 3/5\n",
            "107/107 [==============================] - 0s 2ms/step - loss: 0.4324 - accuracy: 0.8368\n",
            "Epoch 4/5\n",
            "107/107 [==============================] - 0s 2ms/step - loss: 0.4137 - accuracy: 0.8450\n",
            "Epoch 5/5\n",
            "107/107 [==============================] - 0s 2ms/step - loss: 0.4018 - accuracy: 0.8521\n",
            "19/19 [==============================] - 0s 1ms/step - loss: 0.3949 - accuracy: 0.8267\n",
            "Epoch 1/5\n",
            "107/107 [==============================] - 0s 2ms/step - loss: 0.5194 - accuracy: 0.7715\n",
            "Epoch 2/5\n",
            "107/107 [==============================] - 0s 2ms/step - loss: 0.4522 - accuracy: 0.8129\n",
            "Epoch 3/5\n",
            "107/107 [==============================] - 0s 2ms/step - loss: 0.4315 - accuracy: 0.8265\n",
            "Epoch 4/5\n",
            "107/107 [==============================] - 0s 2ms/step - loss: 0.4119 - accuracy: 0.8391\n",
            "Epoch 5/5\n",
            "107/107 [==============================] - 0s 2ms/step - loss: 0.4026 - accuracy: 0.8485\n",
            "19/19 [==============================] - 0s 2ms/step - loss: 0.4051 - accuracy: 0.8167\n",
            "Epoch 1/5\n",
            "107/107 [==============================] - 1s 2ms/step - loss: 0.5436 - accuracy: 0.7418\n",
            "Epoch 2/5\n",
            "107/107 [==============================] - 0s 2ms/step - loss: 0.4625 - accuracy: 0.8212\n",
            "Epoch 3/5\n",
            "107/107 [==============================] - 0s 2ms/step - loss: 0.4337 - accuracy: 0.8226\n",
            "Epoch 4/5\n",
            "107/107 [==============================] - 0s 2ms/step - loss: 0.4169 - accuracy: 0.8397\n",
            "Epoch 5/5\n",
            "107/107 [==============================] - 0s 2ms/step - loss: 0.4036 - accuracy: 0.8479\n",
            "19/19 [==============================] - 0s 1ms/step - loss: 0.3955 - accuracy: 0.8200\n",
            "Epoch 1/5\n",
            "107/107 [==============================] - 0s 2ms/step - loss: 0.5361 - accuracy: 0.7629\n",
            "Epoch 2/5\n",
            "107/107 [==============================] - 0s 2ms/step - loss: 0.4560 - accuracy: 0.8215\n",
            "Epoch 3/5\n",
            "107/107 [==============================] - 0s 2ms/step - loss: 0.4317 - accuracy: 0.8300\n",
            "Epoch 4/5\n",
            "107/107 [==============================] - 0s 2ms/step - loss: 0.4147 - accuracy: 0.8444\n",
            "Epoch 5/5\n",
            "107/107 [==============================] - 0s 2ms/step - loss: 0.3991 - accuracy: 0.8426\n",
            "19/19 [==============================] - 0s 1ms/step - loss: 0.4406 - accuracy: 0.7783\n",
            "Epoch 1/5\n",
            "107/107 [==============================] - 0s 2ms/step - loss: 0.5218 - accuracy: 0.7718\n",
            "Epoch 2/5\n",
            "107/107 [==============================] - 0s 2ms/step - loss: 0.4472 - accuracy: 0.8341\n",
            "Epoch 3/5\n",
            "107/107 [==============================] - 0s 2ms/step - loss: 0.4222 - accuracy: 0.8415\n",
            "Epoch 4/5\n",
            "107/107 [==============================] - 0s 2ms/step - loss: 0.4074 - accuracy: 0.8506\n",
            "Epoch 5/5\n",
            "107/107 [==============================] - 0s 2ms/step - loss: 0.3893 - accuracy: 0.8526\n",
            "19/19 [==============================] - 0s 1ms/step - loss: 0.4686 - accuracy: 0.7833\n",
            "mean accuracy:  80.5\n"
          ]
        }
      ],
      "source": [
        "accu = run_mlp(\n",
        "    np.concatenate((X_train, X_train_blur)),\n",
        "    np.concatenate((Y_train, Y_train)), \n",
        "    np.concatenate((X_test_blur, X_test)), \n",
        "    np.concatenate((Y_test, Y_test))\n",
        "    )\n",
        "print('mean accuracy: ', round(accu * 100, 2))"
      ]
    },
    {
      "cell_type": "markdown",
      "metadata": {
        "id": "7hBI7UESbZHF"
      },
      "source": [
        "# MLP on Rotated:"
      ]
    },
    {
      "cell_type": "code",
      "execution_count": 18,
      "metadata": {
        "id": "7Wp2gL8IbZHF"
      },
      "outputs": [],
      "source": [
        "from random import choice\n",
        "from skimage.transform import rotate"
      ]
    },
    {
      "cell_type": "code",
      "execution_count": 19,
      "metadata": {
        "id": "LtTxryvabZHF"
      },
      "outputs": [],
      "source": [
        "angles = [90, 180, 270]\n",
        "\n",
        "X_train_rot = []\n",
        "X_test_rot = []\n",
        "\n",
        "for x in X_train:\n",
        "    X_train_rot.append(rotate(x, choice(angles)))\n",
        "    \n",
        "for x in X_test:\n",
        "    X_test_rot.append(rotate(x, choice(angles)))\n",
        "    \n",
        "X_train_rot = np.array(X_train_rot) \n",
        "X_test_rot = np.array(X_test_rot)"
      ]
    },
    {
      "cell_type": "code",
      "execution_count": 20,
      "metadata": {
        "colab": {
          "base_uri": "https://localhost:8080/",
          "height": 0
        },
        "id": "YbwhfxkSbZHF",
        "outputId": "f20bbebb-acfd-4e2f-9a2b-12d568f1ffdc"
      },
      "outputs": [
        {
          "output_type": "execute_result",
          "data": {
            "text/plain": [
              "<matplotlib.image.AxesImage at 0x7f97b3046890>"
            ]
          },
          "metadata": {},
          "execution_count": 20
        },
        {
          "output_type": "display_data",
          "data": {
            "image/png": "[encoded data removed]",
            "text/plain": [
              "<Figure size 432x288 with 1 Axes>"
            ]
          },
          "metadata": {
            "needs_background": "light"
          }
        }
      ],
      "source": [
        "plt.imshow(X_train_rot[1000])"
      ]
    },
    {
      "cell_type": "code",
      "execution_count": 21,
      "metadata": {
        "colab": {
          "base_uri": "https://localhost:8080/"
        },
        "id": "gmLDpdIcbZHF",
        "outputId": "38cf08df-0d2b-40b0-e6af-8017a4e855dd"
      },
      "outputs": [
        {
          "output_type": "stream",
          "name": "stdout",
          "text": [
            "Epoch 1/5\n",
            "54/54 [==============================] - 0s 2ms/step - loss: 0.6175 - accuracy: 0.6529\n",
            "Epoch 2/5\n",
            "54/54 [==============================] - 0s 2ms/step - loss: 0.5377 - accuracy: 0.7865\n",
            "Epoch 3/5\n",
            "54/54 [==============================] - 0s 2ms/step - loss: 0.5108 - accuracy: 0.7988\n",
            "Epoch 4/5\n",
            "54/54 [==============================] - 0s 2ms/step - loss: 0.4899 - accuracy: 0.8106\n",
            "Epoch 5/5\n",
            "54/54 [==============================] - 0s 2ms/step - loss: 0.4856 - accuracy: 0.8094\n",
            "10/10 [==============================] - 0s 3ms/step - loss: 0.4867 - accuracy: 0.8100\n",
            "Epoch 1/5\n",
            "54/54 [==============================] - 0s 2ms/step - loss: 0.5981 - accuracy: 0.6924\n",
            "Epoch 2/5\n",
            "54/54 [==============================] - 0s 2ms/step - loss: 0.5333 - accuracy: 0.7753\n",
            "Epoch 3/5\n",
            "54/54 [==============================] - 0s 1ms/step - loss: 0.4979 - accuracy: 0.8024\n",
            "Epoch 4/5\n",
            "54/54 [==============================] - 0s 2ms/step - loss: 0.4824 - accuracy: 0.8076\n",
            "Epoch 5/5\n",
            "54/54 [==============================] - 0s 2ms/step - loss: 0.4721 - accuracy: 0.8206\n",
            "10/10 [==============================] - 0s 2ms/step - loss: 0.5211 - accuracy: 0.7500\n",
            "Epoch 1/5\n",
            "54/54 [==============================] - 0s 2ms/step - loss: 0.6355 - accuracy: 0.6459\n",
            "Epoch 2/5\n",
            "54/54 [==============================] - 0s 2ms/step - loss: 0.5490 - accuracy: 0.7553\n",
            "Epoch 3/5\n",
            "54/54 [==============================] - 0s 2ms/step - loss: 0.5133 - accuracy: 0.7912\n",
            "Epoch 4/5\n",
            "54/54 [==============================] - 0s 2ms/step - loss: 0.4954 - accuracy: 0.8006\n",
            "Epoch 5/5\n",
            "54/54 [==============================] - 0s 2ms/step - loss: 0.4786 - accuracy: 0.8100\n",
            "10/10 [==============================] - 0s 2ms/step - loss: 0.4812 - accuracy: 0.7867\n",
            "Epoch 1/5\n",
            "54/54 [==============================] - 0s 1ms/step - loss: 0.5879 - accuracy: 0.7029\n",
            "Epoch 2/5\n",
            "54/54 [==============================] - 0s 2ms/step - loss: 0.5233 - accuracy: 0.7694\n",
            "Epoch 3/5\n",
            "54/54 [==============================] - 0s 1ms/step - loss: 0.5004 - accuracy: 0.7871\n",
            "Epoch 4/5\n",
            "54/54 [==============================] - 0s 2ms/step - loss: 0.4826 - accuracy: 0.8053\n",
            "Epoch 5/5\n",
            "54/54 [==============================] - 0s 2ms/step - loss: 0.4752 - accuracy: 0.8094\n",
            "10/10 [==============================] - 0s 2ms/step - loss: 0.4751 - accuracy: 0.8100\n",
            "Epoch 1/5\n",
            "54/54 [==============================] - 0s 1ms/step - loss: 0.6122 - accuracy: 0.6700\n",
            "Epoch 2/5\n",
            "54/54 [==============================] - 0s 2ms/step - loss: 0.5374 - accuracy: 0.7712\n",
            "Epoch 3/5\n",
            "54/54 [==============================] - 0s 2ms/step - loss: 0.5061 - accuracy: 0.7935\n",
            "Epoch 4/5\n",
            "54/54 [==============================] - 0s 2ms/step - loss: 0.4899 - accuracy: 0.7994\n",
            "Epoch 5/5\n",
            "54/54 [==============================] - 0s 1ms/step - loss: 0.4820 - accuracy: 0.8065\n",
            "10/10 [==============================] - 0s 2ms/step - loss: 0.4832 - accuracy: 0.7867\n",
            "mean accuracy:  78.87\n"
          ]
        }
      ],
      "source": [
        "accu = run_mlp(X_train_rot, Y_train, X_test_rot, Y_test)\n",
        "print('mean accuracy: ', round(accu * 100, 2))"
      ]
    },
    {
      "cell_type": "code",
      "execution_count": 22,
      "metadata": {
        "colab": {
          "base_uri": "https://localhost:8080/"
        },
        "id": "ZvLQky0NbZHF",
        "outputId": "38aa6a17-d0c1-4c99-ed5b-282ebc90321f"
      },
      "outputs": [
        {
          "output_type": "stream",
          "name": "stdout",
          "text": [
            "Epoch 1/5\n",
            "107/107 [==============================] - 0s 2ms/step - loss: 0.5903 - accuracy: 0.7044\n",
            "Epoch 2/5\n",
            "107/107 [==============================] - 0s 2ms/step - loss: 0.5035 - accuracy: 0.7868\n",
            "Epoch 3/5\n",
            "107/107 [==============================] - 0s 2ms/step - loss: 0.4854 - accuracy: 0.8044\n",
            "Epoch 4/5\n",
            "107/107 [==============================] - 0s 2ms/step - loss: 0.4680 - accuracy: 0.8165\n",
            "Epoch 5/5\n",
            "107/107 [==============================] - 0s 2ms/step - loss: 0.4558 - accuracy: 0.8226\n",
            "19/19 [==============================] - 0s 2ms/step - loss: 0.4557 - accuracy: 0.8150\n",
            "Epoch 1/5\n",
            "107/107 [==============================] - 0s 2ms/step - loss: 0.5852 - accuracy: 0.7059\n",
            "Epoch 2/5\n",
            "107/107 [==============================] - 0s 2ms/step - loss: 0.5089 - accuracy: 0.7924\n",
            "Epoch 3/5\n",
            "107/107 [==============================] - 0s 2ms/step - loss: 0.4840 - accuracy: 0.8053\n",
            "Epoch 4/5\n",
            "107/107 [==============================] - 0s 2ms/step - loss: 0.4687 - accuracy: 0.8162\n",
            "Epoch 5/5\n",
            "107/107 [==============================] - 0s 2ms/step - loss: 0.4579 - accuracy: 0.8241\n",
            "19/19 [==============================] - 0s 1ms/step - loss: 0.4572 - accuracy: 0.8233\n",
            "Epoch 1/5\n",
            "107/107 [==============================] - 0s 2ms/step - loss: 0.5746 - accuracy: 0.7276\n",
            "Epoch 2/5\n",
            "107/107 [==============================] - 0s 1ms/step - loss: 0.4997 - accuracy: 0.8003\n",
            "Epoch 3/5\n",
            "107/107 [==============================] - 0s 1ms/step - loss: 0.4799 - accuracy: 0.8094\n",
            "Epoch 4/5\n",
            "107/107 [==============================] - 0s 1ms/step - loss: 0.4617 - accuracy: 0.8206\n",
            "Epoch 5/5\n",
            "107/107 [==============================] - 0s 2ms/step - loss: 0.4527 - accuracy: 0.8174\n",
            "19/19 [==============================] - 0s 1ms/step - loss: 0.4514 - accuracy: 0.7900\n",
            "Epoch 1/5\n",
            "107/107 [==============================] - 0s 2ms/step - loss: 0.5909 - accuracy: 0.6941\n",
            "Epoch 2/5\n",
            "107/107 [==============================] - 0s 2ms/step - loss: 0.5119 - accuracy: 0.7818\n",
            "Epoch 3/5\n",
            "107/107 [==============================] - 0s 2ms/step - loss: 0.4857 - accuracy: 0.7997\n",
            "Epoch 4/5\n",
            "107/107 [==============================] - 0s 2ms/step - loss: 0.4697 - accuracy: 0.8106\n",
            "Epoch 5/5\n",
            "107/107 [==============================] - 0s 2ms/step - loss: 0.4570 - accuracy: 0.8200\n",
            "19/19 [==============================] - 0s 2ms/step - loss: 0.4549 - accuracy: 0.8100\n",
            "Epoch 1/5\n",
            "107/107 [==============================] - 0s 2ms/step - loss: 0.6006 - accuracy: 0.7003\n",
            "Epoch 2/5\n",
            "107/107 [==============================] - 0s 2ms/step - loss: 0.5145 - accuracy: 0.7935\n",
            "Epoch 3/5\n",
            "107/107 [==============================] - 0s 2ms/step - loss: 0.4889 - accuracy: 0.8100\n",
            "Epoch 4/5\n",
            "107/107 [==============================] - 0s 2ms/step - loss: 0.4725 - accuracy: 0.8194\n",
            "Epoch 5/5\n",
            "107/107 [==============================] - 0s 2ms/step - loss: 0.4599 - accuracy: 0.8212\n",
            "19/19 [==============================] - 0s 1ms/step - loss: 0.4653 - accuracy: 0.8033\n",
            "mean accuracy:  80.83\n"
          ]
        }
      ],
      "source": [
        "accu = run_mlp(\n",
        "    np.concatenate((X_train, X_train_rot)),\n",
        "    np.concatenate((Y_train, Y_train)), \n",
        "    np.concatenate((X_test_rot, X_test)), \n",
        "    np.concatenate((Y_test, Y_test))\n",
        "    )\n",
        "print('mean accuracy: ', round(accu * 100, 2))"
      ]
    },
    {
      "cell_type": "markdown",
      "metadata": {
        "id": "kpHMj4PSbZHF"
      },
      "source": [
        "# MLP on Scaled:"
      ]
    },
    {
      "cell_type": "code",
      "execution_count": 23,
      "metadata": {
        "id": "M3Z-ltTlbZHG"
      },
      "outputs": [],
      "source": [
        "from skimage.transform import rescale\n",
        "\n",
        "X_train_sca = []\n",
        "X_test_sca = []\n",
        "\n",
        "for x in X_train:\n",
        "    X_train_sca.append(rescale(x, 0.75, anti_aliasing=False))\n",
        "    \n",
        "for x in X_test:\n",
        "    X_test_sca.append(rescale(x, 0.75, anti_aliasing=False))\n",
        "\n",
        "    \n",
        "X_train_sca = np.array(X_train_sca) \n",
        "X_test_sca = np.array(X_test_sca)"
      ]
    },
    {
      "cell_type": "code",
      "execution_count": 24,
      "metadata": {
        "colab": {
          "base_uri": "https://localhost:8080/",
          "height": 281
        },
        "id": "Dt-8vhNrbZHG",
        "outputId": "8470b209-fe0c-4fc3-bcf1-406f9b46b590"
      },
      "outputs": [
        {
          "output_type": "execute_result",
          "data": {
            "text/plain": [
              "<matplotlib.image.AxesImage at 0x7f97b1db5850>"
            ]
          },
          "metadata": {},
          "execution_count": 24
        },
        {
          "output_type": "display_data",
          "data": {
            "image/png": "[encoded data removed]",
            "text/plain": [
              "<Figure size 432x288 with 1 Axes>"
            ]
          },
          "metadata": {
            "needs_background": "light"
          }
        }
      ],
      "source": [
        "plt.imshow(X_train_sca[1000])"
      ]
    },
    {
      "cell_type": "code",
      "execution_count": 25,
      "metadata": {
        "colab": {
          "base_uri": "https://localhost:8080/"
        },
        "id": "3GDox_KdbZHG",
        "outputId": "403bd09d-2e09-446e-fffd-977642f4f0cb"
      },
      "outputs": [
        {
          "output_type": "stream",
          "name": "stdout",
          "text": [
            "Epoch 1/5\n",
            "54/54 [==============================] - 0s 2ms/step - loss: 0.5869 - accuracy: 0.7235\n",
            "Epoch 2/5\n",
            "54/54 [==============================] - 0s 1ms/step - loss: 0.5157 - accuracy: 0.8018\n",
            "Epoch 3/5\n",
            "54/54 [==============================] - 0s 2ms/step - loss: 0.4884 - accuracy: 0.8112\n",
            "Epoch 4/5\n",
            "54/54 [==============================] - 0s 2ms/step - loss: 0.4728 - accuracy: 0.8159\n",
            "Epoch 5/5\n",
            "54/54 [==============================] - 0s 2ms/step - loss: 0.4583 - accuracy: 0.8294\n",
            "10/10 [==============================] - 0s 3ms/step - loss: 0.4545 - accuracy: 0.8267\n",
            "Epoch 1/5\n",
            "54/54 [==============================] - 0s 1ms/step - loss: 0.6204 - accuracy: 0.6682\n",
            "Epoch 2/5\n",
            "54/54 [==============================] - 0s 1ms/step - loss: 0.5249 - accuracy: 0.7965\n",
            "Epoch 3/5\n",
            "54/54 [==============================] - 0s 2ms/step - loss: 0.4951 - accuracy: 0.8071\n",
            "Epoch 4/5\n",
            "54/54 [==============================] - 0s 2ms/step - loss: 0.4786 - accuracy: 0.8235\n",
            "Epoch 5/5\n",
            "54/54 [==============================] - 0s 1ms/step - loss: 0.4634 - accuracy: 0.8335\n",
            "10/10 [==============================] - 0s 2ms/step - loss: 0.4602 - accuracy: 0.7900\n",
            "Epoch 1/5\n",
            "54/54 [==============================] - 1s 2ms/step - loss: 0.5959 - accuracy: 0.7024\n",
            "Epoch 2/5\n",
            "54/54 [==============================] - 0s 2ms/step - loss: 0.5106 - accuracy: 0.7947\n",
            "Epoch 3/5\n",
            "54/54 [==============================] - 0s 1ms/step - loss: 0.4897 - accuracy: 0.8176\n",
            "Epoch 4/5\n",
            "54/54 [==============================] - 0s 2ms/step - loss: 0.4693 - accuracy: 0.8288\n",
            "Epoch 5/5\n",
            "54/54 [==============================] - 0s 2ms/step - loss: 0.4650 - accuracy: 0.8294\n",
            "10/10 [==============================] - 0s 2ms/step - loss: 0.4445 - accuracy: 0.8200\n",
            "Epoch 1/5\n",
            "54/54 [==============================] - 0s 2ms/step - loss: 0.6103 - accuracy: 0.6894\n",
            "Epoch 2/5\n",
            "54/54 [==============================] - 0s 1ms/step - loss: 0.5184 - accuracy: 0.7965\n",
            "Epoch 3/5\n",
            "54/54 [==============================] - 0s 2ms/step - loss: 0.4910 - accuracy: 0.8141\n",
            "Epoch 4/5\n",
            "54/54 [==============================] - 0s 1ms/step - loss: 0.4723 - accuracy: 0.8182\n",
            "Epoch 5/5\n",
            "54/54 [==============================] - 0s 2ms/step - loss: 0.4604 - accuracy: 0.8276\n",
            "10/10 [==============================] - 0s 2ms/step - loss: 0.4471 - accuracy: 0.8300\n",
            "Epoch 1/5\n",
            "54/54 [==============================] - 0s 2ms/step - loss: 0.6429 - accuracy: 0.6388\n",
            "Epoch 2/5\n",
            "54/54 [==============================] - 0s 2ms/step - loss: 0.5232 - accuracy: 0.7741\n",
            "Epoch 3/5\n",
            "54/54 [==============================] - 0s 2ms/step - loss: 0.4965 - accuracy: 0.7965\n",
            "Epoch 4/5\n",
            "54/54 [==============================] - 0s 2ms/step - loss: 0.4790 - accuracy: 0.8153\n",
            "Epoch 5/5\n",
            "54/54 [==============================] - 0s 1ms/step - loss: 0.4672 - accuracy: 0.8188\n",
            "10/10 [==============================] - 0s 2ms/step - loss: 0.4888 - accuracy: 0.7867\n",
            "mean accuracy:  81.07\n"
          ]
        }
      ],
      "source": [
        "accu = run_mlp(X_train_sca, Y_train, X_test_sca, Y_test, size=21)\n",
        "print('mean accuracy: ', round(accu * 100, 2))"
      ]
    },
    {
      "cell_type": "code",
      "execution_count": 26,
      "metadata": {
        "colab": {
          "base_uri": "https://localhost:8080/"
        },
        "id": "0zbb8pnebZHG",
        "outputId": "0acc06dc-54fe-4679-b564-1388faeda3ea"
      },
      "outputs": [
        {
          "output_type": "execute_result",
          "data": {
            "text/plain": [
              "(1700, 21, 21)"
            ]
          },
          "metadata": {},
          "execution_count": 26
        }
      ],
      "source": [
        "X_train_sca.shape"
      ]
    },
    {
      "cell_type": "code",
      "execution_count": 27,
      "metadata": {
        "colab": {
          "base_uri": "https://localhost:8080/",
          "height": 272
        },
        "id": "HxRO0nMsbZHG",
        "outputId": "87313fe7-89a8-4b61-d2ed-703e58578696"
      },
      "outputs": [
        {
          "output_type": "error",
          "ename": "ValueError",
          "evalue": "ignored",
          "traceback": [
            "\u001b[0;31m---------------------------------------------------------------------------\u001b[0m",
            "\u001b[0;31mValueError\u001b[0m                                Traceback (most recent call last)",
            "\u001b[0;32m<ipython-input-27-9f675f2829b6>\u001b[0m in \u001b[0;36m<module>\u001b[0;34m()\u001b[0m\n\u001b[1;32m      1\u001b[0m accu = run_mlp(\n\u001b[0;32m----> 2\u001b[0;31m     \u001b[0mnp\u001b[0m\u001b[0;34m.\u001b[0m\u001b[0mconcatenate\u001b[0m\u001b[0;34m(\u001b[0m\u001b[0;34m(\u001b[0m\u001b[0mX_train\u001b[0m\u001b[0;34m,\u001b[0m \u001b[0mX_train_sca\u001b[0m\u001b[0;34m)\u001b[0m\u001b[0;34m)\u001b[0m\u001b[0;34m,\u001b[0m\u001b[0;34m\u001b[0m\u001b[0;34m\u001b[0m\u001b[0m\n\u001b[0m\u001b[1;32m      3\u001b[0m     \u001b[0mnp\u001b[0m\u001b[0;34m.\u001b[0m\u001b[0mconcatenate\u001b[0m\u001b[0;34m(\u001b[0m\u001b[0;34m(\u001b[0m\u001b[0mY_train\u001b[0m\u001b[0;34m,\u001b[0m \u001b[0mY_train\u001b[0m\u001b[0;34m)\u001b[0m\u001b[0;34m)\u001b[0m\u001b[0;34m,\u001b[0m\u001b[0;34m\u001b[0m\u001b[0;34m\u001b[0m\u001b[0m\n\u001b[1;32m      4\u001b[0m     \u001b[0mnp\u001b[0m\u001b[0;34m.\u001b[0m\u001b[0mconcatenate\u001b[0m\u001b[0;34m(\u001b[0m\u001b[0;34m(\u001b[0m\u001b[0mX_test_sca\u001b[0m\u001b[0;34m,\u001b[0m \u001b[0mX_test\u001b[0m\u001b[0;34m)\u001b[0m\u001b[0;34m)\u001b[0m\u001b[0;34m,\u001b[0m\u001b[0;34m\u001b[0m\u001b[0;34m\u001b[0m\u001b[0m\n\u001b[1;32m      5\u001b[0m     \u001b[0mnp\u001b[0m\u001b[0;34m.\u001b[0m\u001b[0mconcatenate\u001b[0m\u001b[0;34m(\u001b[0m\u001b[0;34m(\u001b[0m\u001b[0mY_test\u001b[0m\u001b[0;34m,\u001b[0m \u001b[0mY_test\u001b[0m\u001b[0;34m)\u001b[0m\u001b[0;34m)\u001b[0m\u001b[0;34m\u001b[0m\u001b[0;34m\u001b[0m\u001b[0m\n",
            "\u001b[0;32m<__array_function__ internals>\u001b[0m in \u001b[0;36mconcatenate\u001b[0;34m(*args, **kwargs)\u001b[0m\n",
            "\u001b[0;31mValueError\u001b[0m: all the input array dimensions for the concatenation axis must match exactly, but along dimension 1, the array at index 0 has size 28 and the array at index 1 has size 21"
          ]
        }
      ],
      "source": [
        "accu = run_mlp(\n",
        "    np.concatenate((X_train, X_train_sca)),\n",
        "    np.concatenate((Y_train, Y_train)), \n",
        "    np.concatenate((X_test_sca, X_test)), \n",
        "    np.concatenate((Y_test, Y_test))\n",
        "    )\n",
        "print('mean accuracy: ', round(accu * 100, 2))"
      ]
    },
    {
      "cell_type": "code",
      "execution_count": null,
      "metadata": {
        "id": "6Nf38VK0bZHG"
      },
      "outputs": [],
      "source": [
        "X_test_sca.shape"
      ]
    },
    {
      "cell_type": "markdown",
      "metadata": {
        "id": "Q-xdKyTNbZHG"
      },
      "source": [
        "# CNN Function:"
      ]
    },
    {
      "cell_type": "code",
      "execution_count": 28,
      "metadata": {
        "id": "7BYtbPtkbZHG"
      },
      "outputs": [],
      "source": [
        "def run_cnn(X_train, Y_train, X_test, Y_test, shape = (28, 28, 1)):\n",
        "    \n",
        "    FREQ = 5\n",
        "    accu = []\n",
        "    for _ in range(FREQ):\n",
        "        cnn = models.Sequential([\n",
        "            layers.Conv2D(filters=32, kernel_size=(3, 3), activation='relu', input_shape=shape),\n",
        "            layers.MaxPooling2D((2, 2)),\n",
        "\n",
        "            layers.Conv2D(filters=64, kernel_size=(3, 3), activation='relu'),\n",
        "            layers.MaxPooling2D((2, 2)),\n",
        "\n",
        "            layers.Flatten(),\n",
        "            layers.Dense(64, activation='relu'),\n",
        "            layers.Dense(2, activation='softmax')\n",
        "        ])\n",
        "\n",
        "        cnn.compile(optimizer='adam',\n",
        "                      loss='sparse_categorical_crossentropy',\n",
        "                      metrics=['accuracy'])\n",
        "\n",
        "        # reshape Data for Input layer\n",
        "        x_wanted = X_train.reshape((len(X_train), )+ shape)\n",
        "        x_wanted.shape\n",
        "\n",
        "        cnn.fit(x_wanted, Y_train, epochs=10)\n",
        "        x_wanted = X_test.reshape((len(X_test), )+ shape)\n",
        "        x_wanted.shape\n",
        "\n",
        "        res = cnn.evaluate(x_wanted, Y_test)\n",
        "        accu.append(res[1])\n",
        "        \n",
        "    return sum(accu) / FREQ"
      ]
    },
    {
      "cell_type": "markdown",
      "metadata": {
        "id": "SmIgAMMdbZHG"
      },
      "source": [
        "## CNN on Normal:"
      ]
    },
    {
      "cell_type": "code",
      "execution_count": 29,
      "metadata": {
        "colab": {
          "base_uri": "https://localhost:8080/"
        },
        "id": "xJjh0nHdbZHG",
        "outputId": "cf563243-cb9a-4e38-fd9c-e93580b50e6d"
      },
      "outputs": [
        {
          "output_type": "stream",
          "name": "stdout",
          "text": [
            "Epoch 1/10\n",
            "54/54 [==============================] - 2s 28ms/step - loss: 0.4764 - accuracy: 0.7512\n",
            "Epoch 2/10\n",
            "54/54 [==============================] - 1s 27ms/step - loss: 0.2317 - accuracy: 0.9118\n",
            "Epoch 3/10\n",
            "54/54 [==============================] - 1s 27ms/step - loss: 0.1714 - accuracy: 0.9288\n",
            "Epoch 4/10\n",
            "54/54 [==============================] - 1s 27ms/step - loss: 0.1406 - accuracy: 0.9394\n",
            "Epoch 5/10\n",
            "54/54 [==============================] - 1s 27ms/step - loss: 0.1561 - accuracy: 0.9347\n",
            "Epoch 6/10\n",
            "54/54 [==============================] - 1s 27ms/step - loss: 0.1269 - accuracy: 0.9424\n",
            "Epoch 7/10\n",
            "54/54 [==============================] - 2s 35ms/step - loss: 0.1193 - accuracy: 0.9435\n",
            "Epoch 8/10\n",
            "54/54 [==============================] - 3s 51ms/step - loss: 0.1187 - accuracy: 0.9435\n",
            "Epoch 9/10\n",
            "54/54 [==============================] - 3s 53ms/step - loss: 0.1148 - accuracy: 0.9453\n",
            "Epoch 10/10\n",
            "54/54 [==============================] - 2s 44ms/step - loss: 0.1238 - accuracy: 0.9371\n",
            "10/10 [==============================] - 0s 17ms/step - loss: 0.1289 - accuracy: 0.9367\n",
            "Epoch 1/10\n",
            "54/54 [==============================] - 4s 52ms/step - loss: 0.4808 - accuracy: 0.7647\n",
            "Epoch 2/10\n",
            "54/54 [==============================] - 2s 45ms/step - loss: 0.2616 - accuracy: 0.8853\n",
            "Epoch 3/10\n",
            "54/54 [==============================] - 1s 27ms/step - loss: 0.1655 - accuracy: 0.9282\n",
            "Epoch 4/10\n",
            "54/54 [==============================] - 1s 27ms/step - loss: 0.1425 - accuracy: 0.9388\n",
            "Epoch 5/10\n",
            "54/54 [==============================] - 1s 27ms/step - loss: 0.1270 - accuracy: 0.9400\n",
            "Epoch 6/10\n",
            "54/54 [==============================] - 1s 27ms/step - loss: 0.1233 - accuracy: 0.9435\n",
            "Epoch 7/10\n",
            "54/54 [==============================] - 1s 27ms/step - loss: 0.1180 - accuracy: 0.9435\n",
            "Epoch 8/10\n",
            "54/54 [==============================] - 2s 28ms/step - loss: 0.1133 - accuracy: 0.9453\n",
            "Epoch 9/10\n",
            "54/54 [==============================] - 1s 27ms/step - loss: 0.1116 - accuracy: 0.9453\n",
            "Epoch 10/10\n",
            "54/54 [==============================] - 1s 27ms/step - loss: 0.1113 - accuracy: 0.9465\n",
            "10/10 [==============================] - 0s 9ms/step - loss: 0.1197 - accuracy: 0.9400\n",
            "Epoch 1/10\n",
            "54/54 [==============================] - 2s 27ms/step - loss: 0.4984 - accuracy: 0.7565\n",
            "Epoch 2/10\n",
            "54/54 [==============================] - 1s 27ms/step - loss: 0.2452 - accuracy: 0.8912\n",
            "Epoch 3/10\n",
            "54/54 [==============================] - 1s 26ms/step - loss: 0.1560 - accuracy: 0.9306\n",
            "Epoch 4/10\n",
            "54/54 [==============================] - 1s 26ms/step - loss: 0.1407 - accuracy: 0.9376\n",
            "Epoch 5/10\n",
            "54/54 [==============================] - 1s 26ms/step - loss: 0.1218 - accuracy: 0.9441\n",
            "Epoch 6/10\n",
            "54/54 [==============================] - 1s 27ms/step - loss: 0.1192 - accuracy: 0.9435\n",
            "Epoch 7/10\n",
            "54/54 [==============================] - 1s 26ms/step - loss: 0.1114 - accuracy: 0.9459\n",
            "Epoch 8/10\n",
            "54/54 [==============================] - 1s 27ms/step - loss: 0.1073 - accuracy: 0.9465\n",
            "Epoch 9/10\n",
            "54/54 [==============================] - 1s 27ms/step - loss: 0.1090 - accuracy: 0.9418\n",
            "Epoch 10/10\n",
            "54/54 [==============================] - 1s 27ms/step - loss: 0.1071 - accuracy: 0.9482\n",
            "10/10 [==============================] - 0s 9ms/step - loss: 0.1223 - accuracy: 0.9333\n",
            "Epoch 1/10\n",
            "54/54 [==============================] - 2s 27ms/step - loss: 0.4803 - accuracy: 0.7565\n",
            "Epoch 2/10\n",
            "54/54 [==============================] - 1s 26ms/step - loss: 0.2025 - accuracy: 0.9165\n",
            "Epoch 3/10\n",
            "54/54 [==============================] - 1s 27ms/step - loss: 0.1487 - accuracy: 0.9353\n",
            "Epoch 4/10\n",
            "54/54 [==============================] - 1s 27ms/step - loss: 0.1316 - accuracy: 0.9400\n",
            "Epoch 5/10\n",
            "54/54 [==============================] - 1s 27ms/step - loss: 0.1225 - accuracy: 0.9429\n",
            "Epoch 6/10\n",
            "54/54 [==============================] - 1s 27ms/step - loss: 0.1209 - accuracy: 0.9418\n",
            "Epoch 7/10\n",
            "54/54 [==============================] - 1s 27ms/step - loss: 0.1183 - accuracy: 0.9447\n",
            "Epoch 8/10\n",
            "54/54 [==============================] - 1s 27ms/step - loss: 0.1113 - accuracy: 0.9465\n",
            "Epoch 9/10\n",
            "54/54 [==============================] - 1s 27ms/step - loss: 0.1085 - accuracy: 0.9476\n",
            "Epoch 10/10\n",
            "54/54 [==============================] - 1s 27ms/step - loss: 0.1030 - accuracy: 0.9482\n",
            "10/10 [==============================] - 0s 9ms/step - loss: 0.1151 - accuracy: 0.9400\n",
            "Epoch 1/10\n",
            "54/54 [==============================] - 2s 27ms/step - loss: 0.4767 - accuracy: 0.7559\n",
            "Epoch 2/10\n",
            "54/54 [==============================] - 1s 27ms/step - loss: 0.2501 - accuracy: 0.8947\n",
            "Epoch 3/10\n",
            "54/54 [==============================] - 1s 27ms/step - loss: 0.1942 - accuracy: 0.9153\n",
            "Epoch 4/10\n",
            "54/54 [==============================] - 1s 27ms/step - loss: 0.1501 - accuracy: 0.9359\n",
            "Epoch 5/10\n",
            "54/54 [==============================] - 1s 27ms/step - loss: 0.1316 - accuracy: 0.9382\n",
            "Epoch 6/10\n",
            "54/54 [==============================] - 1s 27ms/step - loss: 0.1226 - accuracy: 0.9429\n",
            "Epoch 7/10\n",
            "54/54 [==============================] - 1s 27ms/step - loss: 0.1192 - accuracy: 0.9447\n",
            "Epoch 8/10\n",
            "54/54 [==============================] - 1s 26ms/step - loss: 0.1185 - accuracy: 0.9424\n",
            "Epoch 9/10\n",
            "54/54 [==============================] - 1s 27ms/step - loss: 0.1119 - accuracy: 0.9459\n",
            "Epoch 10/10\n",
            "54/54 [==============================] - 1s 27ms/step - loss: 0.1120 - accuracy: 0.9447\n",
            "10/10 [==============================] - 0s 10ms/step - loss: 0.1194 - accuracy: 0.9367\n",
            "mean accuracy:  93.73\n"
          ]
        }
      ],
      "source": [
        "accu = run_cnn(X_train, Y_train, X_test, Y_test)\n",
        "print('mean accuracy: ', round(accu * 100, 2))"
      ]
    },
    {
      "cell_type": "markdown",
      "metadata": {
        "id": "o4U225cDbZHG"
      },
      "source": [
        "## CNN on noisy:"
      ]
    },
    {
      "cell_type": "code",
      "execution_count": 30,
      "metadata": {
        "colab": {
          "base_uri": "https://localhost:8080/"
        },
        "id": "qJJETY9UbZHG",
        "outputId": "6105c0b1-a2aa-46fa-886c-5e5f088f2380"
      },
      "outputs": [
        {
          "output_type": "stream",
          "name": "stdout",
          "text": [
            "Epoch 1/10\n",
            "54/54 [==============================] - 2s 29ms/step - loss: 0.5401 - accuracy: 0.7176\n",
            "Epoch 2/10\n",
            "54/54 [==============================] - 2s 29ms/step - loss: 0.3287 - accuracy: 0.8576\n",
            "Epoch 3/10\n",
            "54/54 [==============================] - 2s 28ms/step - loss: 0.2218 - accuracy: 0.8976\n",
            "Epoch 4/10\n",
            "54/54 [==============================] - 2s 28ms/step - loss: 0.1787 - accuracy: 0.9194\n",
            "Epoch 5/10\n",
            "54/54 [==============================] - 2s 29ms/step - loss: 0.1581 - accuracy: 0.9276\n",
            "Epoch 6/10\n",
            "54/54 [==============================] - 2s 28ms/step - loss: 0.1415 - accuracy: 0.9306\n",
            "Epoch 7/10\n",
            "54/54 [==============================] - 2s 29ms/step - loss: 0.1243 - accuracy: 0.9424\n",
            "Epoch 8/10\n",
            "54/54 [==============================] - 2s 28ms/step - loss: 0.1205 - accuracy: 0.9406\n",
            "Epoch 9/10\n",
            "54/54 [==============================] - 2s 28ms/step - loss: 0.1285 - accuracy: 0.9365\n",
            "Epoch 10/10\n",
            "54/54 [==============================] - 2s 28ms/step - loss: 0.1106 - accuracy: 0.9476\n",
            "10/10 [==============================] - 0s 9ms/step - loss: 0.1413 - accuracy: 0.9200\n",
            "Epoch 1/10\n",
            "54/54 [==============================] - 2s 30ms/step - loss: 0.5104 - accuracy: 0.7212\n",
            "Epoch 2/10\n",
            "54/54 [==============================] - 2s 28ms/step - loss: 0.3196 - accuracy: 0.8606\n",
            "Epoch 3/10\n",
            "54/54 [==============================] - 2s 28ms/step - loss: 0.2161 - accuracy: 0.9035\n",
            "Epoch 4/10\n",
            "54/54 [==============================] - 2s 28ms/step - loss: 0.1732 - accuracy: 0.9218\n",
            "Epoch 5/10\n",
            "54/54 [==============================] - 2s 28ms/step - loss: 0.1471 - accuracy: 0.9288\n",
            "Epoch 6/10\n",
            "54/54 [==============================] - 2s 29ms/step - loss: 0.1392 - accuracy: 0.9359\n",
            "Epoch 7/10\n",
            "54/54 [==============================] - 2s 29ms/step - loss: 0.1256 - accuracy: 0.9400\n",
            "Epoch 8/10\n",
            "54/54 [==============================] - 2s 28ms/step - loss: 0.1208 - accuracy: 0.9429\n",
            "Epoch 9/10\n",
            "54/54 [==============================] - 2s 28ms/step - loss: 0.1217 - accuracy: 0.9435\n",
            "Epoch 10/10\n",
            "54/54 [==============================] - 2s 28ms/step - loss: 0.1120 - accuracy: 0.9494\n",
            "10/10 [==============================] - 0s 9ms/step - loss: 0.1463 - accuracy: 0.9267\n",
            "Epoch 1/10\n",
            "54/54 [==============================] - 2s 29ms/step - loss: 0.5218 - accuracy: 0.7329\n",
            "Epoch 2/10\n",
            "54/54 [==============================] - 2s 31ms/step - loss: 0.2993 - accuracy: 0.8624\n",
            "Epoch 3/10\n",
            "54/54 [==============================] - 2s 41ms/step - loss: 0.2488 - accuracy: 0.8865\n",
            "Epoch 4/10\n",
            "54/54 [==============================] - 2s 28ms/step - loss: 0.1863 - accuracy: 0.9200\n",
            "Epoch 5/10\n",
            "54/54 [==============================] - 2s 28ms/step - loss: 0.1641 - accuracy: 0.9218\n",
            "Epoch 6/10\n",
            "54/54 [==============================] - 2s 28ms/step - loss: 0.1403 - accuracy: 0.9335\n",
            "Epoch 7/10\n",
            "54/54 [==============================] - 2s 28ms/step - loss: 0.1382 - accuracy: 0.9359\n",
            "Epoch 8/10\n",
            "54/54 [==============================] - 2s 28ms/step - loss: 0.1336 - accuracy: 0.9406\n",
            "Epoch 9/10\n",
            "54/54 [==============================] - 2s 28ms/step - loss: 0.1148 - accuracy: 0.9459\n",
            "Epoch 10/10\n",
            "54/54 [==============================] - 2s 28ms/step - loss: 0.1054 - accuracy: 0.9488\n",
            "10/10 [==============================] - 0s 9ms/step - loss: 0.2171 - accuracy: 0.8667\n",
            "Epoch 1/10\n",
            "54/54 [==============================] - 2s 29ms/step - loss: 0.5124 - accuracy: 0.7371\n",
            "Epoch 2/10\n",
            "54/54 [==============================] - 2s 28ms/step - loss: 0.3080 - accuracy: 0.8541\n",
            "Epoch 3/10\n",
            "54/54 [==============================] - 2s 28ms/step - loss: 0.2028 - accuracy: 0.9135\n",
            "Epoch 4/10\n",
            "54/54 [==============================] - 2s 28ms/step - loss: 0.1705 - accuracy: 0.9235\n",
            "Epoch 5/10\n",
            "54/54 [==============================] - 1s 27ms/step - loss: 0.1437 - accuracy: 0.9341\n",
            "Epoch 6/10\n",
            "54/54 [==============================] - 2s 28ms/step - loss: 0.1404 - accuracy: 0.9300\n",
            "Epoch 7/10\n",
            "54/54 [==============================] - 1s 28ms/step - loss: 0.1238 - accuracy: 0.9429\n",
            "Epoch 8/10\n",
            "54/54 [==============================] - 2s 28ms/step - loss: 0.1117 - accuracy: 0.9476\n",
            "Epoch 9/10\n",
            "54/54 [==============================] - 2s 28ms/step - loss: 0.1099 - accuracy: 0.9471\n",
            "Epoch 10/10\n",
            "54/54 [==============================] - 2s 28ms/step - loss: 0.0988 - accuracy: 0.9506\n",
            "10/10 [==============================] - 0s 10ms/step - loss: 0.1494 - accuracy: 0.9167\n",
            "Epoch 1/10\n",
            "54/54 [==============================] - 2s 28ms/step - loss: 0.5471 - accuracy: 0.7076\n",
            "Epoch 2/10\n",
            "54/54 [==============================] - 2s 28ms/step - loss: 0.3201 - accuracy: 0.8553\n",
            "Epoch 3/10\n",
            "54/54 [==============================] - 1s 28ms/step - loss: 0.1978 - accuracy: 0.9147\n",
            "Epoch 4/10\n",
            "54/54 [==============================] - 1s 27ms/step - loss: 0.1647 - accuracy: 0.9312\n",
            "Epoch 5/10\n",
            "54/54 [==============================] - 1s 27ms/step - loss: 0.1402 - accuracy: 0.9341\n",
            "Epoch 6/10\n",
            "54/54 [==============================] - 1s 28ms/step - loss: 0.1328 - accuracy: 0.9394\n",
            "Epoch 7/10\n",
            "54/54 [==============================] - 1s 28ms/step - loss: 0.1185 - accuracy: 0.9465\n",
            "Epoch 8/10\n",
            "54/54 [==============================] - 1s 27ms/step - loss: 0.1128 - accuracy: 0.9441\n",
            "Epoch 9/10\n",
            "54/54 [==============================] - 2s 28ms/step - loss: 0.1035 - accuracy: 0.9518\n",
            "Epoch 10/10\n",
            "54/54 [==============================] - 1s 28ms/step - loss: 0.0975 - accuracy: 0.9524\n",
            "10/10 [==============================] - 0s 10ms/step - loss: 0.1341 - accuracy: 0.9267\n",
            "mean accuracy:  91.13\n"
          ]
        }
      ],
      "source": [
        "accu = run_cnn(X_train_noisy, Y_train, X_test_noisy, Y_test)\n",
        "print('mean accuracy: ', round(accu * 100, 2))"
      ]
    },
    {
      "cell_type": "code",
      "execution_count": null,
      "metadata": {
        "colab": {
          "base_uri": "https://localhost:8080/"
        },
        "id": "m3dgM3G-bZHG",
        "outputId": "0c3c6a57-3407-487b-cbde-4129aeba02cb"
      },
      "outputs": [
        {
          "output_type": "stream",
          "name": "stdout",
          "text": [
            "Epoch 1/10\n",
            "107/107 [==============================] - 3s 27ms/step - loss: 0.4241 - accuracy: 0.7897\n",
            "Epoch 2/10\n",
            "107/107 [==============================] - 3s 27ms/step - loss: 0.1896 - accuracy: 0.9176\n",
            "Epoch 3/10\n",
            "107/107 [==============================] - 3s 27ms/step - loss: 0.1426 - accuracy: 0.9332\n",
            "Epoch 4/10\n",
            "107/107 [==============================] - 3s 27ms/step - loss: 0.1235 - accuracy: 0.9409\n",
            "Epoch 5/10\n",
            "107/107 [==============================] - 3s 27ms/step - loss: 0.1149 - accuracy: 0.9432\n",
            "Epoch 6/10\n",
            "107/107 [==============================] - 3s 27ms/step - loss: 0.1060 - accuracy: 0.9479\n",
            "Epoch 7/10\n",
            "107/107 [==============================] - 3s 27ms/step - loss: 0.1024 - accuracy: 0.9474\n",
            "Epoch 8/10\n",
            "107/107 [==============================] - 3s 27ms/step - loss: 0.0970 - accuracy: 0.9521\n",
            "Epoch 9/10\n",
            "107/107 [==============================] - 3s 27ms/step - loss: 0.0968 - accuracy: 0.9518\n",
            "Epoch 10/10\n",
            "107/107 [==============================] - 3s 28ms/step - loss: 0.0912 - accuracy: 0.9556\n",
            "19/19 [==============================] - 0s 9ms/step - loss: 0.1407 - accuracy: 0.9333\n",
            "Epoch 1/10\n",
            "107/107 [==============================] - 3s 27ms/step - loss: 0.4107 - accuracy: 0.8088\n",
            "Epoch 2/10\n",
            "107/107 [==============================] - 3s 27ms/step - loss: 0.1730 - accuracy: 0.9244\n",
            "Epoch 3/10\n",
            "107/107 [==============================] - 3s 27ms/step - loss: 0.1436 - accuracy: 0.9312\n",
            "Epoch 4/10\n",
            "107/107 [==============================] - 3s 27ms/step - loss: 0.1208 - accuracy: 0.9426\n",
            "Epoch 5/10\n",
            "107/107 [==============================] - 3s 27ms/step - loss: 0.1150 - accuracy: 0.9418\n",
            "Epoch 6/10\n",
            "107/107 [==============================] - 3s 27ms/step - loss: 0.1106 - accuracy: 0.9462\n",
            "Epoch 7/10\n",
            "107/107 [==============================] - 3s 27ms/step - loss: 0.1034 - accuracy: 0.9485\n",
            "Epoch 8/10\n",
            "107/107 [==============================] - 3s 27ms/step - loss: 0.0992 - accuracy: 0.9532\n",
            "Epoch 9/10\n",
            "107/107 [==============================] - 3s 27ms/step - loss: 0.0991 - accuracy: 0.9515\n",
            "Epoch 10/10\n",
            "107/107 [==============================] - 4s 34ms/step - loss: 0.0976 - accuracy: 0.9547\n",
            "19/19 [==============================] - 0s 9ms/step - loss: 0.1206 - accuracy: 0.9400\n",
            "Epoch 1/10\n",
            "107/107 [==============================] - 3s 28ms/step - loss: 0.3805 - accuracy: 0.8094\n",
            "Epoch 2/10\n",
            "107/107 [==============================] - 3s 27ms/step - loss: 0.1572 - accuracy: 0.9309\n",
            "Epoch 3/10\n",
            "107/107 [==============================] - 3s 27ms/step - loss: 0.1299 - accuracy: 0.9385\n",
            "Epoch 4/10\n",
            "107/107 [==============================] - 3s 28ms/step - loss: 0.1150 - accuracy: 0.9432\n",
            "Epoch 5/10\n",
            "107/107 [==============================] - 3s 28ms/step - loss: 0.1109 - accuracy: 0.9444\n",
            "Epoch 6/10\n",
            "107/107 [==============================] - 3s 27ms/step - loss: 0.1005 - accuracy: 0.9521\n",
            "Epoch 7/10\n",
            "107/107 [==============================] - 3s 27ms/step - loss: 0.1036 - accuracy: 0.9506\n",
            "Epoch 8/10\n",
            "107/107 [==============================] - 3s 28ms/step - loss: 0.0954 - accuracy: 0.9544\n",
            "Epoch 9/10\n",
            "107/107 [==============================] - 3s 27ms/step - loss: 0.0943 - accuracy: 0.9538\n",
            "Epoch 10/10\n",
            "107/107 [==============================] - 3s 27ms/step - loss: 0.0902 - accuracy: 0.9568\n",
            "19/19 [==============================] - 0s 9ms/step - loss: 0.1363 - accuracy: 0.9350\n",
            "Epoch 1/10\n",
            "107/107 [==============================] - 3s 28ms/step - loss: 0.3829 - accuracy: 0.8232\n",
            "Epoch 2/10\n",
            "107/107 [==============================] - 3s 27ms/step - loss: 0.2065 - accuracy: 0.9079\n",
            "Epoch 3/10\n",
            "107/107 [==============================] - 3s 27ms/step - loss: 0.1513 - accuracy: 0.9326\n",
            "Epoch 4/10\n",
            "107/107 [==============================] - 3s 27ms/step - loss: 0.1262 - accuracy: 0.9424\n",
            "Epoch 5/10\n",
            "107/107 [==============================] - 3s 27ms/step - loss: 0.1174 - accuracy: 0.9435\n",
            "Epoch 6/10\n",
            "107/107 [==============================] - 3s 27ms/step - loss: 0.1122 - accuracy: 0.9468\n",
            "Epoch 7/10\n",
            "107/107 [==============================] - 3s 27ms/step - loss: 0.1051 - accuracy: 0.9488\n",
            "Epoch 8/10\n",
            "107/107 [==============================] - 3s 27ms/step - loss: 0.1067 - accuracy: 0.9488\n",
            "Epoch 9/10\n",
            " 93/107 [=========================>....] - ETA: 0s - loss: 0.0969 - accuracy: 0.9519"
          ]
        }
      ],
      "source": [
        "accu = run_cnn(\n",
        "    np.concatenate((X_train, X_train_noisy)),\n",
        "    np.concatenate((Y_train, Y_train)), \n",
        "    np.concatenate((X_test_noisy, X_test)), \n",
        "    np.concatenate((Y_test, Y_test))\n",
        "    )\n",
        "print('mean accuracy: ', round(accu * 100, 2))"
      ]
    },
    {
      "cell_type": "markdown",
      "metadata": {
        "id": "kqtHRGfvbZHH"
      },
      "source": [
        "## CNN on blur:"
      ]
    },
    {
      "cell_type": "code",
      "execution_count": null,
      "metadata": {
        "id": "s3YR145NbZHH"
      },
      "outputs": [],
      "source": [
        "run_cnn(X_train_blur, Y_train, X_test_blur, Y_test)\n",
        "print('mean accuracy: ', round(accu * 100, 2))"
      ]
    },
    {
      "cell_type": "code",
      "execution_count": null,
      "metadata": {
        "id": "Vey-Gt2fbZHI"
      },
      "outputs": [],
      "source": [
        "accu = run_cnn(\n",
        "    np.concatenate((X_train, X_train_blur)),\n",
        "    np.concatenate((Y_train, Y_train)), \n",
        "    np.concatenate((X_test_blur, X_test)), \n",
        "    np.concatenate((Y_test, Y_test))\n",
        "    )\n",
        "print('mean accuracy: ', round(accu * 100, 2))"
      ]
    },
    {
      "cell_type": "markdown",
      "metadata": {
        "id": "f6ZrR1rwbZHJ"
      },
      "source": [
        "## CNN on Rotated:"
      ]
    },
    {
      "cell_type": "code",
      "execution_count": null,
      "metadata": {
        "id": "-q-AT5ahbZHJ"
      },
      "outputs": [],
      "source": [
        "accu = run_cnn(X_train_rot, Y_train, X_test_rot, Y_test)\n",
        "print('mean accuracy: ', round(accu * 100, 2))"
      ]
    },
    {
      "cell_type": "code",
      "execution_count": null,
      "metadata": {
        "id": "gHvbug0DbZHJ"
      },
      "outputs": [],
      "source": [
        "accu = run_cnn(\n",
        "    np.concatenate((X_train, X_train_rot)),\n",
        "    np.concatenate((Y_train, Y_train)), \n",
        "    np.concatenate((X_test_rot, X_test)), \n",
        "    np.concatenate((Y_test, Y_test))\n",
        "    )\n",
        "print('mean accuracy: ', round(accu * 100, 2))"
      ]
    },
    {
      "cell_type": "markdown",
      "metadata": {
        "id": "qHmTLxPsbZHJ"
      },
      "source": [
        "## CNN on Scaled:"
      ]
    },
    {
      "cell_type": "code",
      "execution_count": null,
      "metadata": {
        "id": "qPboBb96bZHJ"
      },
      "outputs": [],
      "source": [
        "accu = run_cnn(X_train_sca, Y_train, X_test_sca, Y_test, shape = (21, 21, 1))\n",
        "print('mean accuracy: ', round(accu * 100, 2))"
      ]
    },
    {
      "cell_type": "markdown",
      "metadata": {
        "id": "GqxU1-K_bZHJ"
      },
      "source": [
        "# Creating the bar chart:"
      ]
    },
    {
      "cell_type": "markdown",
      "metadata": {
        "id": "iOfD4JEzbZHJ"
      },
      "source": [
        "## MCP:"
      ]
    },
    {
      "cell_type": "code",
      "execution_count": null,
      "metadata": {
        "id": "Dr3-fS63bZHJ"
      },
      "outputs": [],
      "source": [
        "import plotly.express as px\n",
        "\n",
        "titles = ['Normal', 'Noise', 'Augmented Noise', 'Blur', 'Augmented Blur', 'Random Rotation', \n",
        "          'Random Rotation Augmented', 'Scaling']\n",
        "accus = [82.27, 74.53, 78.43, 80.33, 82.43, 80.73, 83.17, 78.87]\n",
        "\n",
        "#px.bar(x=titles, y= accus)\n",
        "plt.barh(titles, accus)"
      ]
    },
    {
      "cell_type": "markdown",
      "metadata": {
        "id": "HaMwsuO4bZHJ"
      },
      "source": [
        "## CNN:"
      ]
    },
    {
      "cell_type": "code",
      "execution_count": null,
      "metadata": {
        "id": "bQAAVfgmbZHJ"
      },
      "outputs": [],
      "source": [
        "titles = ['Normal', 'Noise', 'Augmented Noise', 'Blur', 'Augmented Blur', 'Random Rotation', \n",
        "          'Random Rotation Augmented', 'Scaling']\n",
        "\n",
        "accus = [95.33, 91.27, 94.27, 94.27, 94.9, 92.0, 92.27, 92.13]\n",
        "\n",
        "px.bar(x=titles, y= accus)\n",
        "plt.barh(titles, accus)"
      ]
    },
    {
      "cell_type": "markdown",
      "metadata": {
        "id": "4aEULHlWbZHJ"
      },
      "source": [
        "# Some more insights:"
      ]
    },
    {
      "cell_type": "code",
      "execution_count": null,
      "metadata": {
        "id": "yJ5pfig2bZHJ"
      },
      "outputs": [],
      "source": [
        "from keras import backend as K\n",
        "\n",
        "def recall_m(y_true, y_pred):\n",
        "    true_positives = K.sum(K.round(K.clip(y_true * y_pred, 0, 1)))\n",
        "    possible_positives = K.sum(K.round(K.clip(y_true, 0, 1)))\n",
        "    recall = true_positives / (possible_positives + K.epsilon())\n",
        "    return recall\n",
        "\n",
        "def precision_m(y_true, y_pred):\n",
        "    true_positives = K.sum(K.round(K.clip(y_true * y_pred, 0, 1)))\n",
        "    predicted_positives = K.sum(K.round(K.clip(y_pred, 0, 1)))\n",
        "    precision = true_positives / (predicted_positives + K.epsilon())\n",
        "    return precision\n",
        "\n",
        "def f1_m(y_true, y_pred):\n",
        "    precision = precision_m(y_true, y_pred)\n",
        "    recall = recall_m(y_true, y_pred)\n",
        "    return 2*((precision*recall)/(precision+recall+K.epsilon()))"
      ]
    },
    {
      "cell_type": "code",
      "execution_count": null,
      "metadata": {
        "id": "qBW1W9dJbZHJ"
      },
      "outputs": [],
      "source": [
        "cnn.compile(optimizer='adam',\n",
        "              loss='sparse_categorical_crossentropy',\n",
        "              metrics=['acc',f1_m,precision_m, recall_m])"
      ]
    },
    {
      "cell_type": "code",
      "execution_count": null,
      "metadata": {
        "id": "ckmjoxh8bZHJ"
      },
      "outputs": [],
      "source": [
        "x_wanted = X_train.reshape(len(X_train), 28, 28, 1)\n",
        "cnn.fit(x_wanted, Y_train, epochs=10, callbacks=[history])"
      ]
    },
    {
      "cell_type": "code",
      "execution_count": null,
      "metadata": {
        "id": "zh_Y4WXXbZHJ"
      },
      "outputs": [],
      "source": [
        "fig, ax = plt.subplots()\n",
        "\n",
        "ax.plot(history.history['loss'], color = 'red', label = 'Loss')\n",
        "ax.plot(history.history['acc'], color = 'green', label = 'Accuracy')\n",
        "ax.plot(history.history['f1_m'], color = 'blue', label = 'F1')\n",
        "ax.plot(history.history['precision_m'], color = 'orange', label = 'precision')\n",
        "ax.plot(history.history['recall_m'], color = 'purple', label = 'Recall')\n",
        "plt.show()"
      ]
    },
    {
      "cell_type": "code",
      "source": [
        ""
      ],
      "metadata": {
        "id": "3tXVtLrpcEU1"
      },
      "execution_count": null,
      "outputs": []
    }
  ],
  "metadata": {
    "kernelspec": {
      "display_name": "Python 3",
      "language": "python",
      "name": "python3"
    },
    "language_info": {
      "codemirror_mode": {
        "name": "ipython",
        "version": 3
      },
      "file_extension": ".py",
      "mimetype": "text/x-python",
      "name": "python",
      "nbconvert_exporter": "python",
      "pygments_lexer": "ipython3",
      "version": "3.8.3"
    },
    "colab": {
      "name": "Augmentation_analaysis.ipynb",
      "provenance": [],
      "include_colab_link": true
    }
  },
  "nbformat": 4,
  "nbformat_minor": 0
}